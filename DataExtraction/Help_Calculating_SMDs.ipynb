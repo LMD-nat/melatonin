{
  "nbformat": 4,
  "nbformat_minor": 0,
  "metadata": {
    "colab": {
      "provenance": [],
      "authorship_tag": "ABX9TyNYKp1CdzHWnQCcR4IspySD",
      "include_colab_link": true
    },
    "kernelspec": {
      "name": "python3",
      "display_name": "Python 3"
    },
    "language_info": {
      "name": "python"
    }
  },
  "cells": [
    {
      "cell_type": "markdown",
      "metadata": {
        "id": "view-in-github",
        "colab_type": "text"
      },
      "source": [
        "<a href=\"https://colab.research.google.com/github/LMD-nat/melatonin/blob/main/Help_Calculating_SMDs.ipynb\" target=\"_parent\"><img src=\"https://colab.research.google.com/assets/colab-badge.svg\" alt=\"Open In Colab\"/></a>"
      ]
    },
    {
      "cell_type": "markdown",
      "source": [
        "# Manually calculate means and SDs for Standardized Mean Differences in a meta analysis\n",
        "\n",
        "In some cases, articles did not readily provide means and standard deviations to use when calculating a standardized mean difference.\n",
        "\n",
        "Sometimes there are results of t-tests, medians, or standard errors of the mean. With these measures, we can work backwards to estimate the mean and standard deviation of the score in a group.\n",
        "\n",
        "I used formulas provided by David B. Wilson and Mark W. Lipsey (*Practical Meta Analysis, 2001*) to estimate the standardized mean difference, using the mean differences and p-values provided by the authors."
      ],
      "metadata": {
        "id": "2epO4U_yq6ib"
      }
    },
    {
      "cell_type": "markdown",
      "source": [
        "### In this first part, we obtain the standardized mean difference when only limited information (independent samples t-test results) is known."
      ],
      "metadata": {
        "id": "yVlaAg_6tg-M"
      }
    },
    {
      "cell_type": "code",
      "execution_count": null,
      "metadata": {
        "id": "y7lmAiaTpXR6"
      },
      "outputs": [],
      "source": [
        "import scipy.stats as stats\n",
        "import math"
      ]
    },
    {
      "cell_type": "code",
      "source": [
        "# Custom function to get SMD from p_value and degrees of freedom for an idependent-samples t-test.\n",
        "\n",
        "def calculate_smd(p_val, df1, df2):\n",
        "    t = stats.t.ppf(1 - p_val/2, df1 + df2)\n",
        "    smd = t * math.sqrt((df1 + df2) / (df1 * df2))\n",
        "    return smd\n",
        "\n",
        "def calculate_t_test(p_val, df1, df2):\n",
        "    t_test = stats.t.ppf(1 - p_val/2, df1 + df2)\n",
        "    return t_test"
      ],
      "metadata": {
        "id": "TGkiiQ59pmqe"
      },
      "execution_count": null,
      "outputs": []
    },
    {
      "cell_type": "markdown",
      "source": [
        "**Example usage of the above function**\n",
        "\n",
        "```\n",
        "p_val = 0.07\n",
        "df1 = 30\n",
        "df2 = 30\n",
        "smd_result = calculate_smd(p_val, df1, df2)\n",
        "print(smd_result)\n",
        "```"
      ],
      "metadata": {
        "id": "ZzqZIDZrs5eE"
      }
    },
    {
      "cell_type": "code",
      "source": [
        "calculate_smd(0.07, 30, 30)"
      ],
      "metadata": {
        "colab": {
          "base_uri": "https://localhost:8080/"
        },
        "id": "o9uc2WUHpo97",
        "outputId": "18ccbc3c-7311-454f-b3fe-15f021a1486b"
      },
      "execution_count": null,
      "outputs": [
        {
          "output_type": "execute_result",
          "data": {
            "text/plain": [
              "0.2581988897471611"
            ]
          },
          "metadata": {},
          "execution_count": 5
        }
      ]
    },
    {
      "cell_type": "code",
      "source": [
        "calculate_t_test(0.06, 15, 15)"
      ],
      "metadata": {
        "colab": {
          "base_uri": "https://localhost:8080/"
        },
        "id": "Ze12L8f1pwHc",
        "outputId": "82c51bef-87a7-4303-eed3-d154d2cef604"
      },
      "execution_count": null,
      "outputs": [
        {
          "output_type": "execute_result",
          "data": {
            "text/plain": [
              "0.7137356199794702"
            ]
          },
          "metadata": {},
          "execution_count": 3
        }
      ]
    },
    {
      "cell_type": "markdown",
      "source": [
        "### In this second part, we obtain the mean and standard deviation when only the range and median are known.\n",
        "\n",
        "Using the method described by [Hozo, Djulbegovic, & Hozo, 2005](https://bmcmedresmethodol.biomedcentral.com/articles/10.1186/1471-2288-5-13)"
      ],
      "metadata": {
        "id": "dCXBSB3bt3g-"
      }
    },
    {
      "cell_type": "code",
      "source": [
        "from math import sqrt\n",
        "\n",
        "def calculate_variance(a, m, b):\n",
        "    return (1/12) * (((a - 2*m + b)**2)/4 + (b - a)**2)\n",
        "\n",
        "def calculate_sd(a, m, b):\n",
        "    variance = calculate_variance(a, m, b)\n",
        "    return sqrt(variance)\n",
        "\n",
        "def calculate_mean(a, m, b):\n",
        "    return (a + 2*m + b) / 4\n",
        "\n",
        "a_value = 28\n",
        "median = 75\n",
        "b_value = 92\n",
        "\n",
        "calculate_variance(a_value, median, b_value)"
      ],
      "metadata": {
        "colab": {
          "base_uri": "https://localhost:8080/"
        },
        "id": "7lHCoYvPPJQE",
        "outputId": "4d8b07c6-e41f-4e43-d919-658ad34f6da3"
      },
      "execution_count": null,
      "outputs": [
        {
          "output_type": "execute_result",
          "data": {
            "text/plain": [
              "360.0833333333333"
            ]
          },
          "metadata": {},
          "execution_count": 18
        }
      ]
    },
    {
      "cell_type": "code",
      "source": [
        "calculate_sd(a_value, median, b_value)"
      ],
      "metadata": {
        "colab": {
          "base_uri": "https://localhost:8080/"
        },
        "id": "ZFmNOtEhQos0",
        "outputId": "26a44e51-1e2f-4f17-dd2a-7fe80ce7d9fd"
      },
      "execution_count": null,
      "outputs": [
        {
          "output_type": "execute_result",
          "data": {
            "text/plain": [
              "18.97586186009303"
            ]
          },
          "metadata": {},
          "execution_count": 19
        }
      ]
    },
    {
      "cell_type": "code",
      "source": [
        "calculate_mean(a_value, median, b_value)"
      ],
      "metadata": {
        "colab": {
          "base_uri": "https://localhost:8080/"
        },
        "id": "hmeDv4fFStLp",
        "outputId": "6eb6543a-a314-4c4c-a6f6-34304efe6128"
      },
      "execution_count": null,
      "outputs": [
        {
          "output_type": "execute_result",
          "data": {
            "text/plain": [
              "67.5"
            ]
          },
          "metadata": {},
          "execution_count": 20
        }
      ]
    },
    {
      "cell_type": "markdown",
      "source": [
        "### In this third part, we obtain the mean and standard deviation when only the interquartile range and median are known.\n",
        "\n",
        "Using the methods described by [Luo, Wan, Liu & Tong, 2018; Wan, Wang, Liu & Tong; 2014](https://www.math.hkbu.edu.hk/~tongt/papers/median2mean.html)"
      ],
      "metadata": {
        "id": "_-s3yLbNwg8m"
      }
    },
    {
      "cell_type": "code",
      "source": [
        "import math\n",
        "from scipy.stats import norm\n",
        "\n",
        "def nt1():\n",
        "    n = float(input(\"Enter the sample size: \"))\n",
        "    a = float(input(\"Enter the lower limit of the range: \"))\n",
        "    m = float(input(\"Enter the median: \"))\n",
        "    b = float(input(\"Enter the upper limit of the range: \"))\n",
        "\n",
        "    if a > m or a > b or m > b:\n",
        "        print(\"Invalid data!\")\n",
        "        retVal = 0\n",
        "    else:\n",
        "        if abs((a + b - 2 * m) / (b - a)) > 2.5 / (n + 1) + 1 / math.log(n + 9):\n",
        "            print(\"The data are significantly skewed away from normality. Stop here.\")\n",
        "        else:\n",
        "            print(\"There is no significant evidence to show that the data are skewed. Proceed.\")\n",
        "\n",
        "def calc2():\n",
        "    n = float(input(\"Enter sample size: \"))\n",
        "    q1 = float(input(\"Enter the first quartile of the sample: \"))\n",
        "    m = float(input(\"Enter the median of the sample: \"))\n",
        "    q3 = float(input(\"Enter the third quartile of the sample: \"))\n",
        "\n",
        "    if q1 > m or q1 > q3 or m > q3:\n",
        "        print(\"Invalid data!\")\n",
        "        retVal = 0\n",
        "    else:\n",
        "        data_range = q3 - q1 * 1\n",
        "\n",
        "        if n < 1:\n",
        "            n = 1\n",
        "\n",
        "        weight = 0.70 + 0.39 / n\n",
        "\n",
        "        result1 = round(weight * (q1 + q3) / 2 + (1 - weight) * m, 4)\n",
        "        result2 = round(data_range / (2 * norm_s_inv((0.75 * n - 0.125) / (n + 0.25))), 4)\n",
        "\n",
        "        print(\"Estmated mean:\", result1)\n",
        "        print(\"Estimated standard deviation:\", result2)\n",
        "\n",
        "# Additional function to calculate the inverse of the standard normal distribution\n",
        "def norm_s_inv(p):\n",
        "    return norm.ppf(p)\n",
        "\n",
        "# Additional function to round to 4 decimal places\n",
        "def rnd4(value):\n",
        "    return round(value, 4)\n"
      ],
      "metadata": {
        "id": "22mPNDCAwwN0"
      },
      "execution_count": 13,
      "outputs": []
    },
    {
      "cell_type": "code",
      "source": [
        "#nt1(n, a, m, b)\n",
        "# Determines whether the data are skewed or not\n",
        "nt1()\n"
      ],
      "metadata": {
        "colab": {
          "base_uri": "https://localhost:8080/"
        },
        "id": "6to5KQFsw_2n",
        "outputId": "13d054ac-ddf5-4b4d-b56f-31109248e0c9"
      },
      "execution_count": 14,
      "outputs": [
        {
          "output_type": "stream",
          "name": "stdout",
          "text": [
            "Enter the sample size: 30\n",
            "Enter the lower limit of the range: 2\n",
            "Enter the median: 10\n",
            "Enter the upper limit of the range: 17\n",
            "There is no significant evidence to show that the data are skewed. Proceed.\n"
          ]
        }
      ]
    },
    {
      "cell_type": "code",
      "source": [
        "# Performs the actual calculations of M and SD\n",
        "calc2()"
      ],
      "metadata": {
        "colab": {
          "base_uri": "https://localhost:8080/"
        },
        "id": "GQzeBfcaxCWI",
        "outputId": "d8e6893c-6320-4584-ecc5-fe0dfca807e5"
      },
      "execution_count": 10,
      "outputs": [
        {
          "output_type": "stream",
          "name": "stdout",
          "text": [
            "Enter n: 30\n",
            "Enter q1: 2\n",
            "Enter m: 10\n",
            "Enter q3: 17\n",
            "Result 1: 9.6435\n",
            "Result 2: 11.6763\n"
          ]
        }
      ]
    }
  ]
}