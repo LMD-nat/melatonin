{
  "nbformat": 4,
  "nbformat_minor": 0,
  "metadata": {
    "colab": {
      "provenance": [],
      "authorship_tag": "ABX9TyMuzgp+gGTmqC+tGlYLjo22",
      "include_colab_link": true
    },
    "kernelspec": {
      "name": "python3",
      "display_name": "Python 3"
    },
    "language_info": {
      "name": "python"
    }
  },
  "cells": [
    {
      "cell_type": "markdown",
      "metadata": {
        "id": "view-in-github",
        "colab_type": "text"
      },
      "source": [
        "<a href=\"https://colab.research.google.com/github/LMD-nat/melatonin/blob/main/SMD%20Calculations.ipynb\" target=\"_parent\"><img src=\"https://colab.research.google.com/assets/colab-badge.svg\" alt=\"Open In Colab\"/></a>"
      ]
    },
    {
      "cell_type": "markdown",
      "source": [
        "# Manually calculate Standardized Mean Differences\n",
        "\n",
        "One article in the analysis, **[Effects of melatonin on sleep disturbances in multiple sclerosis: A randomized, controlled pilot study](https://www-ncbi-nlm-nih-gov.acces.bibl.ulaval.ca/pmc/articles/PMC8573503/)** does not provide baseline or treatment means and standard deviations. Instead, they provide change scores and p-values.\n",
        "\n",
        "I used formulas provided by David B. Wilson and Mark W. Lipsey (*Practical Meta Analysis, 2001*) to estimate the standardized mean difference, using the mean differences and p-values provided by the authors. I use the sample size and p-values to determine the t-value associated with that effect to calculate the standardized mean difference.  \n",
        "\n",
        "In a few other articles, I had to calculate SMD also by hand."
      ],
      "metadata": {
        "id": "2epO4U_yq6ib"
      }
    },
    {
      "cell_type": "code",
      "execution_count": null,
      "metadata": {
        "id": "y7lmAiaTpXR6"
      },
      "outputs": [],
      "source": [
        "import scipy.stats as stats\n",
        "import math"
      ]
    },
    {
      "cell_type": "code",
      "source": [
        "# Custom function to get SMD from p_value and degrees of freedom.\n",
        "def calculate_smd(p_val, df1, df2):\n",
        "    t = stats.t.ppf(1 - p_val/2, df1 + df2)\n",
        "    smd = t * math.sqrt((df1 + df2) / (df1 * df2))\n",
        "    return smd"
      ],
      "metadata": {
        "id": "TGkiiQ59pmqe"
      },
      "execution_count": null,
      "outputs": []
    },
    {
      "cell_type": "markdown",
      "source": [
        "**Example usage of the above function**\n",
        "\n",
        "```\n",
        "p_val = 0.07\n",
        "df1 = 30\n",
        "df2 = 30\n",
        "smd_result = calculate_smd(p_val, df1, df2)\n",
        "print(smd_result)\n",
        "```"
      ],
      "metadata": {
        "id": "ZzqZIDZrs5eE"
      }
    },
    {
      "cell_type": "markdown",
      "source": [
        "**Outcome Measures from Hsu et al., 2021**\n",
        "\n",
        "| Outcome Measures                                                                                                                                                                        | Melatonin (N = 30) | Placebo (N = 30) | p\\-value |\n",
        "| --------------------------------------------------------------------------------------------------------------------------------------------------------------------------------------- | ------------------ | ---------------- | -------- |\n",
        "|  PSQI, component 1 change score                                                                                                                                                         | −0.3 (0.1)         | 0.0 (0.1)        | 0.07     |\n",
        "|  Mean sleep efficiency (%)  | 84.7 (1.2)         | 83.2 (1.4)       | 0.06     |\n",
        "|  HADS-Anxiety change score                                                                                                                                                              | 0.4 (0.6)          | 0.5 (0.5)        | 0.92     |\n",
        "|  HADS-Depression change score                                                                                                                                                           | 0.03 (0.42)        | −0.03 (0.50)     | 0.81     |"
      ],
      "metadata": {
        "id": "BKKaBFK7ujDM"
      }
    },
    {
      "cell_type": "markdown",
      "source": [
        "**PSQI**\n",
        "\n",
        "There is an improvement in the melatonin group, which yields a positive SMD."
      ],
      "metadata": {
        "id": "azT1aMMjtJYr"
      }
    },
    {
      "cell_type": "code",
      "source": [
        "calculate_smd(0.07, 30, 30)"
      ],
      "metadata": {
        "colab": {
          "base_uri": "https://localhost:8080/"
        },
        "id": "o9uc2WUHpo97",
        "outputId": "da255250-b04d-4c02-997a-4ad2fe5aab48"
      },
      "execution_count": null,
      "outputs": [
        {
          "output_type": "execute_result",
          "data": {
            "text/plain": [
              "0.47633236031114684"
            ]
          },
          "metadata": {},
          "execution_count": 4
        }
      ]
    },
    {
      "cell_type": "markdown",
      "source": [
        "**Sleep Efficiency**\n",
        "\n",
        "There is an improvement in the melatonin group, which yields a positive SMD."
      ],
      "metadata": {
        "id": "T5lpZwBltd3g"
      }
    },
    {
      "cell_type": "code",
      "source": [
        "calculate_smd(0.06, 30, 30)"
      ],
      "metadata": {
        "colab": {
          "base_uri": "https://localhost:8080/"
        },
        "id": "Ze12L8f1pwHc",
        "outputId": "01ae83c9-d699-40e6-d238-3009c336efc4"
      },
      "execution_count": null,
      "outputs": [
        {
          "output_type": "execute_result",
          "data": {
            "text/plain": [
              "0.4949739337035045"
            ]
          },
          "metadata": {},
          "execution_count": 7
        }
      ]
    },
    {
      "cell_type": "markdown",
      "source": [
        "**HADS Anxiety**\n",
        "\n",
        "There is a worsening of anxiety scores in both groups, which yields a negative SMD."
      ],
      "metadata": {
        "id": "2_OxTOMStiXw"
      }
    },
    {
      "cell_type": "code",
      "source": [
        "(calculate_smd(0.92, 30, 30))*-1"
      ],
      "metadata": {
        "colab": {
          "base_uri": "https://localhost:8080/"
        },
        "id": "GwQ3aFtgpyr_",
        "outputId": "78793d59-5813-444a-c31d-f06b6700aa89"
      },
      "execution_count": null,
      "outputs": [
        {
          "output_type": "execute_result",
          "data": {
            "text/plain": [
              "-0.026041247091475112"
            ]
          },
          "metadata": {},
          "execution_count": 9
        }
      ]
    },
    {
      "cell_type": "markdown",
      "source": [
        "**HADS Depression**\n",
        "\n",
        "There is a worsening in the melatonin group, which yields a negative SMD."
      ],
      "metadata": {
        "id": "GviF1Yr8t2D2"
      }
    },
    {
      "cell_type": "code",
      "source": [
        "(calculate_smd(0.81, 30, 30))*-1"
      ],
      "metadata": {
        "colab": {
          "base_uri": "https://localhost:8080/"
        },
        "id": "rN3FlXMHp2gB",
        "outputId": "b03b0a11-e38b-43f2-a3de-93fcb21774a7"
      },
      "execution_count": null,
      "outputs": [
        {
          "output_type": "execute_result",
          "data": {
            "text/plain": [
              "-0.06235204063219664"
            ]
          },
          "metadata": {},
          "execution_count": 10
        }
      ]
    },
    {
      "cell_type": "markdown",
      "source": [],
      "metadata": {
        "id": "-8PCqWaF7VB9"
      }
    },
    {
      "cell_type": "markdown",
      "source": [
        "**Wade et al., 2014 NPI-Distress Score**\n",
        "\n",
        "Not considered clinically relevant. Worsening in melatonin group, negative SMD.\n",
        "\n"
      ],
      "metadata": {
        "id": "ze8r9sGs5FJW"
      }
    },
    {
      "cell_type": "code",
      "source": [
        "# 24 weeks\n",
        "(calculate_smd(0.026, 6, 5))*-1"
      ],
      "metadata": {
        "colab": {
          "base_uri": "https://localhost:8080/"
        },
        "id": "np2In1ih5P6q",
        "outputId": "a1c8f2b2-2349-4d9a-9422-febfc3e5ce8e"
      },
      "execution_count": null,
      "outputs": [
        {
          "output_type": "execute_result",
          "data": {
            "text/plain": [
              "-1.5568703446971937"
            ]
          },
          "metadata": {},
          "execution_count": 12
        }
      ]
    },
    {
      "cell_type": "markdown",
      "source": [
        "**Drake et al., 2018** Quality of Life and PSQI, both of which had SMDs calculated for Mann-Whitney U tests. My calculations will be a bit off, but should be close."
      ],
      "metadata": {
        "id": "PWZvlTgg7fhs"
      }
    },
    {
      "cell_type": "code",
      "source": [
        "#SMD for QoL = 0.421\n",
        "calculate_smd(0.130, 13, 13) #unadjusted, far"
      ],
      "metadata": {
        "colab": {
          "base_uri": "https://localhost:8080/"
        },
        "id": "3zeEMNAP7kJ9",
        "outputId": "d6817677-aa19-4c0e-e10a-b351120320e7"
      },
      "execution_count": null,
      "outputs": [
        {
          "output_type": "execute_result",
          "data": {
            "text/plain": [
              "0.053277851983432635"
            ]
          },
          "metadata": {},
          "execution_count": 16
        }
      ]
    },
    {
      "cell_type": "code",
      "source": [
        "#SMD for PSQI = 0.036\n",
        "calculate_smd(0.893, 13, 13) #unadjusted, close"
      ],
      "metadata": {
        "colab": {
          "base_uri": "https://localhost:8080/"
        },
        "id": "OVLLfwPI9DjT",
        "outputId": "0046ba33-47ea-42ae-babd-ab78f7292440"
      },
      "execution_count": null,
      "outputs": [
        {
          "output_type": "execute_result",
          "data": {
            "text/plain": [
              "0.053277851983432635"
            ]
          },
          "metadata": {},
          "execution_count": 17
        }
      ]
    }
  ]
}